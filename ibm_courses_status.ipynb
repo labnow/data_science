{
 "cells": [
  {
   "cell_type": "code",
   "execution_count": null,
   "metadata": {},
   "outputs": [],
   "source": [
    "# specialization\n",
    "ibm_data_science_professional_certificate = ['What is Data Science',\n",
    "                                            'Tools for Data Science',\n",
    "                                            'Data Science Methodology',\n",
    "                                            'Python for Data Science, AI & Development',\n",
    "                                            'Python Projects for Data Science',\n",
    "                                            'Databases and SQL for Data Science with Python',\n",
    "                                            'Data Analysis with Python',\n",
    "                                            'Data Visualization with Python',\n",
    "                                            'Machine Learning with Python',\n",
    "                                            'Applied Data Science Capstone']\n",
    "ibm_ai_engineering_professional_certificate = ['Machine Learning with Python',\n",
    "                                            'Introduction to Deep Learning & Neural Networks with Keras',\n",
    "                                            'Introduction to Computer Vision and Image Processing',\n",
    "                                            'Deep Neural Networks with PyTorch',\n",
    "                                            'Building Deep Learning Models with TensorFlow',\n",
    "                                            'AI Capstone Project with Deep Learning']\n",
    "applied_data_science_specialization = ['Python for Data Science, AI & Development',\n",
    "                                        'Python Project for Data Science',\n",
    "                                        'Data Analysis with Python',\n",
    "                                        'Data Visualization with Python',\n",
    "                                        'Applied Data Science Capstone']                                          \n",
    "# course status\n",
    "finished = ['What is Data Science',\n",
    "            'Tools for Data Science',\n",
    "            'Data Science Methodology',\n",
    "            'Python for Data Science, AI & Development',\n",
    "            'Python Projects for Data Science',\n",
    "            'Databases and SQL for Data Science with Python',\n",
    "            'Data Analysis with Python',\n",
    "            'Data Visualization with Python']"
   ]
  },
  {
   "cell_type": "code",
   "execution_count": null,
   "metadata": {},
   "outputs": [],
   "source": [
    "['What is Data Science',\n",
    "'Tools for Data Science',\n",
    "'Data Science Methodology',\n",
    "'Python for Data Science, AI & Development',\n",
    "'Python Projects for Data Science',\n",
    "'Databases and SQL for Data Science with Python',\n",
    "'Data Analysis with Python',\n",
    "'Data Visualization with Python',\n",
    "'Machine Learning with Python',\n",
    "'Applied Data Science Capstone']\n",
    "['Machine Learning with Python',\n",
    "'Introduction to Deep Learning & Neural Networks with Keras',\n",
    "'Introduction to Computer Vision and Image Processing',\n",
    "'Deep Neural Networks with PyTorch',\n",
    "'Building Deep Learning Models with TensorFlow',\n",
    "'AI Capstone Project with Deep Learning']\n",
    "['Python for Data Science, AI & Development',\n",
    "'Python Project for Data Science',\n",
    "'Data Analysis with Python',\n",
    "'Data Visualization with Python',\n",
    "'Applied Data Science Capstone']"
   ]
  }
 ],
 "metadata": {
  "interpreter": {
   "hash": "31f2aee4e71d21fbe5cf8b01ff0e069b9275f58929596ceb00d14d90e3e16cd6"
  },
  "kernelspec": {
   "display_name": "Python 3.8.10 64-bit",
   "language": "python",
   "name": "python3"
  },
  "language_info": {
   "name": "python",
   "version": "3.8.10"
  },
  "orig_nbformat": 4
 },
 "nbformat": 4,
 "nbformat_minor": 2
}
